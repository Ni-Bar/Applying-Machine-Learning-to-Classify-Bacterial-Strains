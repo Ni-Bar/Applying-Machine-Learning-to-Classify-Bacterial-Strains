{
 "cells": [
  {
   "cell_type": "code",
   "execution_count": 1,
   "id": "075bae97",
   "metadata": {},
   "outputs": [],
   "source": [
    "#import the needed packages, one needed once per Workingstation\n",
    "#import Pkg; Pkg.add(\"DecisionTree\")\n",
    "#import Pkg; Pkg.add(\"CSV\")\n",
    "#import Pkg; Pkg.add(\"DataFrames\")\n",
    "#import Pkg; Pkg.add(\"TypedTables\") #needed for the table at the end\n",
    "#import Pkg; Pkg.add(\"JLD2\")        #needed to save the models\n",
    "#import Pkg; Pkg.add(\"TickTock\")\n",
    "# Activating the packages needed, allways needed\n",
    "using DecisionTree\n",
    "using CSV, DataFrames\n",
    "using TypedTables\n",
    "using JLD2\n",
    "using Random\n",
    "import DataFrames, XLSX\n",
    "using CSV, Glob, DataFrames\n",
    "# use TickTock to time the steps ( tick() at the beginning, tock() at the end)\n",
    "using TickTock"
   ]
  },
  {
   "cell_type": "code",
   "execution_count": 2,
   "id": "fc32b44a",
   "metadata": {},
   "outputs": [
    {
     "data": {
      "text/plain": [
       "\"E://BA//machine learning//Results//test01\""
      ]
     },
     "execution_count": 2,
     "metadata": {},
     "output_type": "execute_result"
    }
   ],
   "source": [
    "# Location of the training dataset with all the combined training data\n",
    "# there can be multiple folders in the directory but only one .csv file\n",
    "TrainingData = \"E://BA//machine learning//comp_datasets//training//Without_FL\"\n",
    "# to replace all \\ windows uses press Esc + f, enter \\ in find and replace with //\n",
    "# last folder (eg t0) should not be named longer then \n",
    "# Data for L t24\n",
    "path1 = \"E://BA//machine learning//accuracy//without_FL//L//t0\" \n",
    "# Data for U t0\n",
    "path2 =\"E://BA//machine learning//accuracy//without_FL//U//t0\"\n",
    "# Data for U t24\n",
    "path3 = \"E://BA//machine learning//accuracy//without_FL//L//t8\" \n",
    "# Data for U t8\n",
    "path4 = \"E://BA//machine learning//accuracy//without_FL//U//t8\"\n",
    "# Data for L t8\n",
    "path5 = \"E://BA//machine learning//accuracy//without_FL//L//t24\" \n",
    "# Data for U t24\n",
    "path6 = \"E://BA//machine learning//accuracy//without_FL//U//t24\"\n",
    "#comibines all paths above for automatisation\n",
    "paths = (path1,path2,path3,path4,path5,path6)\n",
    "# Names of the bacteria\n",
    "NameBac1 = \"BS\"\n",
    "NameBac2 = \"EC\"\n",
    "# number of replicates \n",
    "# Where to save an Excel file with the result e.g. E://BA//EX2//t24utest//t24.xlsx\n",
    "here = \"E://BA//machine learning//Results//test01\" \n",
    "# Name of the result files : Results name of the last two file from path\n",
    "# e.g. Results Lt0.xlsx"
   ]
  },
  {
   "cell_type": "code",
   "execution_count": 3,
   "id": "455b2765",
   "metadata": {},
   "outputs": [
    {
     "name": "stderr",
     "output_type": "stream",
     "text": [
      "┌ Info:  started timer at: 2023-08-14T14:42:26.960\n",
      "└ @ TickTock C:\\Users\\Nikolas\\.julia\\packages\\TickTock\\fGILW\\src\\TickTock.jl:54\n",
      "┌ Info:          467.5730788s: 7 minutes, 47 seconds, 573 milliseconds\n",
      "└ @ TickTock C:\\Users\\Nikolas\\.julia\\packages\\TickTock\\fGILW\\src\\TickTock.jl:62\n"
     ]
    }
   ],
   "source": [
    "tick()\n",
    "Tfile=glob(\"*.csv\", TrainingData) # to load all CSVs from a folder (* means arbitrary pattern)\n",
    "# randomizes the test dataset for better accuracy\n",
    "dfTrain = DataFrame(CSV.File(Tfile))\n",
    "rdfTrain = dfTrain[shuffle(1:size(dfTrain, 1)),:]\n",
    "\n",
    "# Define whats a features and whats a label (Name of the Bactiria)\n",
    "features = float.(Matrix(rdfTrain[:, 1:18]))\n",
    "labels   = string.(rdfTrain[:, 19])\n",
    "\n",
    "# Building the forest using 2 random features, 1000 trees, 0.5 portion of samples per tree, and a maximum tree depth of 40\n",
    "model = build_forest(labels, features, 2, 1000, 0.2, 1000)\n",
    "# to save this model use\n",
    "@save \"BSmKate_EcoliGFP_t0-t24,0.1.jld2\" model\n",
    "\n",
    "# if you have a model load use  \n",
    "#@load(\"BSmKate_EcoliGFP_t0-t24.jld2\")\n",
    "tock()"
   ]
  },
  {
   "cell_type": "code",
   "execution_count": 4,
   "id": "1b848dba",
   "metadata": {},
   "outputs": [
    {
     "name": "stderr",
     "output_type": "stream",
     "text": [
      "┌ Info:  started timer at: 2023-08-14T14:50:14.649\n",
      "└ @ TickTock C:\\Users\\Nikolas\\.julia\\packages\\TickTock\\fGILW\\src\\TickTock.jl:54\n",
      "┌ Info:         2462.0003277s: 41 minutes, 2 seconds\n",
      "└ @ TickTock C:\\Users\\Nikolas\\.julia\\packages\\TickTock\\fGILW\\src\\TickTock.jl:62\n"
     ]
    }
   ],
   "source": [
    "suffix = \".xlsx\" # used later on to create a file as an .xlsx file\n",
    "dd = \"//\"\n",
    "n = length(paths)\n",
    "tick()\n",
    "# classifiacation of all the files in each path\n",
    "for i in 1:n\n",
    "    C = DataFrame([[],[]], [NameBac1, NameBac2]) # creates an empty data frame \n",
    "    p = paths[i] # defines p as the path for where the data is eg. for t0 \n",
    "    re = readdir(p) # reads directory (all files in p)\n",
    "    r = length(re) # counts numer of folders read, needed to repeat the next loop according\n",
    "    for i in 1:r\n",
    "        files = glob(\"*.csv\", p.*dd.*re[i]) # reads in all the files from re\n",
    "        y = length(files) # counts numer of files, needed to repeat the next loop according\n",
    "        this =re[i] # defines this as the name of i file of re\n",
    "        DFs = DataFrame.(CSV.File.(files)) # creates the data frames form files\n",
    "        for i in 1:y\n",
    "            if i == 1 # if i == 1 push the name of the file as 1. row in the empty data frame\n",
    "                push!(C,[this,\"\"]) \n",
    "            end\n",
    "            test = float.(Matrix(DFs[i][:, 1:18])) # creates a matrix from the data frame \n",
    "            frame = apply_forest(model, test[:, 1:18];) # applies the model to the data frame \n",
    "            TestArray = findall( x -> x == NameBac1, frame) # lists all NameBac1 in the frame \n",
    "                                                            # created after applying the model\n",
    "            Bac1c = (length(TestArray)/length(frame)) # counts the number NameBac1 in the frame\n",
    "            Bac2c = (1- Bac1c) # calculates how much NameBac2 is left\n",
    "            push!(C,[Bac1c,Bac2c]) # pushes the numbers in c (the empty data frame)\n",
    "        end\n",
    "    end\n",
    "   # println(this,\"\n",
    "   #     \",C) # prints the name of the frame and the frame\n",
    "    a = split(paths[i],dd) # splits the path where the file is at ever //\n",
    "    # creates a result name = Results and the last to parts of the path name e.g. Resultst0L\n",
    "    results = \"Results \"*(a[length(a)])*(a[(length(a)-1)])\n",
    "    # writes the xlsx file here//results.xlsx\n",
    "    XLSX.writetable(here.*dd.*results.*suffix,(\"REPORT\") => C) \n",
    "end \n",
    "tock()"
   ]
  }
 ],
 "metadata": {
  "kernelspec": {
   "display_name": "Julia 1.7.3",
   "language": "julia",
   "name": "julia-1.7"
  },
  "language_info": {
   "file_extension": ".jl",
   "mimetype": "application/julia",
   "name": "julia",
   "version": "1.7.3"
  }
 },
 "nbformat": 4,
 "nbformat_minor": 5
}
