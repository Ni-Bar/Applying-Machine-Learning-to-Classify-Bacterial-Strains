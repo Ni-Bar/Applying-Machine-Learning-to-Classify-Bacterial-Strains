{
 "cells": [
  {
   "cell_type": "code",
   "execution_count": 1,
   "id": "7ebfa1cd",
   "metadata": {},
   "outputs": [],
   "source": [
    "#import the needed packages, one needed once per Workingstation\n",
    "#import Pkg; Pkg.add(\"DecisionTree\")\n",
    "# import Pkg; Pkg.add(\"CSV\")\n",
    "# import Pkg; Pkg.add(\"DataFrames\")\n",
    "# import Pkg; Pkg.add(\"TypedTables\") #needed for the table at the end\n",
    "# import Pkg; Pkg.add(\"JLD2\")        #needed to save the models\n",
    "#Activating the packages needed, allways needed\n",
    "using CSV, DataFrames\n",
    "using TypedTables\n",
    "import DataFrames, XLSX\n",
    "using CSV, Glob, DataFrames\n",
    "using TickTock"
   ]
  },
  {
   "cell_type": "code",
   "execution_count": 2,
   "id": "5baebc1b",
   "metadata": {},
   "outputs": [
    {
     "name": "stderr",
     "output_type": "stream",
     "text": [
      "┌ Info:  started timer at: 2023-06-30T15:26:32.984\n",
      "└ @ TickTock C:\\Users\\Nikolas\\.julia\\packages\\TickTock\\fGILW\\src\\TickTock.jl:54\n"
     ]
    },
    {
     "data": {
      "text/plain": [
       "Any[]"
      ]
     },
     "execution_count": 2,
     "metadata": {},
     "output_type": "execute_result"
    }
   ],
   "source": [
    "tick()\n",
    "# Data for L t0\n",
    "T1 = \"E://BA//machine learning//accuracy//with_FL//L//t0\" # directory of your files (raw is useful in Windows to add a //)\n",
    "\n",
    "# Data for L t8\n",
    "T2 = \"E://BA//machine learning//accuracy//with_FL//L//t8\" # directory of your files (raw is useful in Windows to add a //)\n",
    "\n",
    "# Data for L t24\n",
    "T3 = \"E://BA//machine learning//accuracy//with_FL//L//t24\" # directory of your files (raw is useful in Windows to add a //)\n",
    "\n",
    "#Where to save an Exel file with the results e.g. E://BA//EX2//t0utest// <- two / at the end needed \n",
    "#to indicate that the last part is not the filename\n",
    "here = \"E://BA//machine learning//Results//\" \n",
    "#Name of the results files\n",
    "# Name of the result tables \n",
    "results= \"ResultsACC_FL2_FL5\"\n",
    "results1 = \"t0L\"\n",
    "results2 = \"t8L\"\n",
    "results3 = \"t24L\"\n",
    "suffix = \".xlsx\"\n",
    "\n",
    "\n",
    "rep = [\"replicate1\",\"replicate2\",\"replicate3\",\"replicate4\",\"replicate5\"]\n",
    "dd = \"//\"\n",
    "T =( T1,T2,T3)\n",
    "lr = length(rep)\n",
    "n = length(T)\n",
    "FLDF = DataFrame([[],[],[],[],[]],[\"FL2\",\"FL5\",\"FL2P\",\"FL5P\",\"unidentified\"])\n",
    "i=1\n",
    "y=1\n",
    "TRx = []\n"
   ]
  },
  {
   "cell_type": "code",
   "execution_count": 3,
   "id": "c1724cd7",
   "metadata": {},
   "outputs": [
    {
     "name": "stdout",
     "output_type": "stream",
     "text": [
      "E://BA//machine learning//accuracy//with_FL//L//t0//replicate1\n",
      "E://BA//machine learning//accuracy//with_FL//L//t0//replicate2\n",
      "E://BA//machine learning//accuracy//with_FL//L//t0//replicate3\n",
      "E://BA//machine learning//accuracy//with_FL//L//t0//replicate4\n",
      "E://BA//machine learning//accuracy//with_FL//L//t0//replicate5\n",
      "E://BA//machine learning//accuracy//with_FL//L//t0//replicate1\n",
      "E://BA//machine learning//accuracy//with_FL//L//t0//replicate2\n",
      "E://BA//machine learning//accuracy//with_FL//L//t0//replicate3\n",
      "E://BA//machine learning//accuracy//with_FL//L//t0//replicate4\n",
      "E://BA//machine learning//accuracy//with_FL//L//t0//replicate5\n",
      "E://BA//machine learning//accuracy//with_FL//L//t0//replicate1\n",
      "E://BA//machine learning//accuracy//with_FL//L//t0//replicate2\n",
      "E://BA//machine learning//accuracy//with_FL//L//t0//replicate3\n",
      "E://BA//machine learning//accuracy//with_FL//L//t0//replicate4\n",
      "E://BA//machine learning//accuracy//with_FL//L//t0//replicate5\n"
     ]
    },
    {
     "data": {
      "text/plain": [
       "15"
      ]
     },
     "execution_count": 3,
     "metadata": {},
     "output_type": "execute_result"
    }
   ],
   "source": [
    "#creates an array with all the file directories \n",
    "for i in 1:n\n",
    "    for y in 1:lr\n",
    "rx = T[i].*dd.*rep[y]\n",
    "y+1\n",
    "push!(TRx,rx)\n",
    "println(TRx[y])\n",
    "    end \n",
    "    i +1\n",
    "end\n",
    "n = length(TRx)"
   ]
  },
  {
   "cell_type": "code",
   "execution_count": 4,
   "id": "8434b930",
   "metadata": {},
   "outputs": [
    {
     "name": "stderr",
     "output_type": "stream",
     "text": [
      "┌ Info:           18.1197212s: 18 seconds, 119 milliseconds\n",
      "└ @ TickTock C:\\Users\\Nikolas\\.julia\\packages\\TickTock\\fGILW\\src\\TickTock.jl:62\n"
     ]
    }
   ],
   "source": [
    "for i in 1:n\n",
    "    x = i\n",
    "    files = glob(\"*.csv\",TRx[i]) # to load all CSVs from a folder (* means arbitrary pattern)\n",
    "    DFs = DataFrame.( CSV.File.( files ) ) # creates a list of dataframes\n",
    "    y = length(DFs)\n",
    "        for i in 1:y  \n",
    "            DF = DFs[i]\n",
    "            LDF = length(rows(DF))\n",
    "            FL2 = DF[DF.FL2_A .>1000, :]\n",
    "            FL2 = length(rows(FL2))\n",
    "            FL2P = (FL2/LDF)\n",
    "        \n",
    "            FL5 = DF[DF.FL5_A .>1000, :]\n",
    "            FL5 = length(rows(FL5))\n",
    "            FL5P = (FL5/LDF)\n",
    "            NaNID = (1-(FL2P+FL5P))\n",
    "            push!(FLDF,[FL2,FL5,FL2P,FL5P,NaNID])\n",
    "        end\n",
    "             if length(rows(FLDF)) == y*n\n",
    "                XLSX.writetable(here.*results.*suffix,\n",
    "                results1.*rep[1] => FLDF[1:y,:],\n",
    "                results1.*rep[2] => FLDF[y+1:y*2,:],\n",
    "                results1.*rep[3] => FLDF[y*2+1:y*3,:],\n",
    "                results1.*rep[4] => FLDF[y*3+1:y*4,:],\n",
    "                results1.*rep[5] => FLDF[y*4+1:y*5,:],\n",
    "            \n",
    "                results2.*rep[1] => FLDF[y*5+1:y*6,:],\n",
    "                results2.*rep[2] => FLDF[y*6+1:y*7,:],\n",
    "                results2.*rep[3] => FLDF[y*7+1:y*8,:],\n",
    "                results2.*rep[4] => FLDF[y*8+1:y*9,:],\n",
    "                results2.*rep[5] => FLDF[y*9+1:y*10,:],\n",
    "            \n",
    "                results3.*rep[1] => FLDF[y*10+1:y*11,:],\n",
    "                results3.*rep[2] => FLDF[y*11+1:y*12,:],\n",
    "                results3.*rep[3] => FLDF[y*12+1:y*13,:],\n",
    "                results3.*rep[4] => FLDF[y*13+1:y*14,:],\n",
    "                results3.*rep[5] => FLDF[y*14+1:y*15,:])\n",
    "            end\n",
    "    i = i + 1\n",
    "end\n",
    "tock()"
   ]
  }
 ],
 "metadata": {
  "kernelspec": {
   "display_name": "Julia 1.7.3",
   "language": "julia",
   "name": "julia-1.7"
  },
  "language_info": {
   "file_extension": ".jl",
   "mimetype": "application/julia",
   "name": "julia",
   "version": "1.7.3"
  }
 },
 "nbformat": 4,
 "nbformat_minor": 5
}
